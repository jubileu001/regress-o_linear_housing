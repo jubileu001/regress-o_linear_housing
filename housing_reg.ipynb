{
 "cells": [
  {
   "cell_type": "code",
   "execution_count": 22,
   "metadata": {},
   "outputs": [],
   "source": [
    "import pandas as pd\n",
    "import numpy as np\n",
    "import statsmodels.api as sm\n",
    "from statsmodels.stats.outliers_influence import variance_inflation_factor\n",
    "from sklearn.preprocessing import StandardScaler"
   ]
  },
  {
   "cell_type": "code",
   "execution_count": 37,
   "metadata": {},
   "outputs": [
    {
     "data": {
      "text/html": [
       "<div>\n",
       "<style scoped>\n",
       "    .dataframe tbody tr th:only-of-type {\n",
       "        vertical-align: middle;\n",
       "    }\n",
       "\n",
       "    .dataframe tbody tr th {\n",
       "        vertical-align: top;\n",
       "    }\n",
       "\n",
       "    .dataframe thead th {\n",
       "        text-align: right;\n",
       "    }\n",
       "</style>\n",
       "<table border=\"1\" class=\"dataframe\">\n",
       "  <thead>\n",
       "    <tr style=\"text-align: right;\">\n",
       "      <th></th>\n",
       "      <th>longitude</th>\n",
       "      <th>latitude</th>\n",
       "      <th>housing_median_age</th>\n",
       "      <th>total_rooms</th>\n",
       "      <th>total_bedrooms</th>\n",
       "      <th>population</th>\n",
       "      <th>households</th>\n",
       "      <th>median_income</th>\n",
       "      <th>median_house_value</th>\n",
       "      <th>ocean_proximity</th>\n",
       "    </tr>\n",
       "  </thead>\n",
       "  <tbody>\n",
       "    <tr>\n",
       "      <th>0</th>\n",
       "      <td>-122.23</td>\n",
       "      <td>37.88</td>\n",
       "      <td>41.0</td>\n",
       "      <td>880.0</td>\n",
       "      <td>129.0</td>\n",
       "      <td>322.0</td>\n",
       "      <td>126.0</td>\n",
       "      <td>8.3252</td>\n",
       "      <td>452600.0</td>\n",
       "      <td>NEAR BAY</td>\n",
       "    </tr>\n",
       "    <tr>\n",
       "      <th>1</th>\n",
       "      <td>-122.22</td>\n",
       "      <td>37.86</td>\n",
       "      <td>21.0</td>\n",
       "      <td>7099.0</td>\n",
       "      <td>1106.0</td>\n",
       "      <td>2401.0</td>\n",
       "      <td>1138.0</td>\n",
       "      <td>8.3014</td>\n",
       "      <td>358500.0</td>\n",
       "      <td>NEAR BAY</td>\n",
       "    </tr>\n",
       "    <tr>\n",
       "      <th>2</th>\n",
       "      <td>-122.24</td>\n",
       "      <td>37.85</td>\n",
       "      <td>52.0</td>\n",
       "      <td>1467.0</td>\n",
       "      <td>190.0</td>\n",
       "      <td>496.0</td>\n",
       "      <td>177.0</td>\n",
       "      <td>7.2574</td>\n",
       "      <td>352100.0</td>\n",
       "      <td>NEAR BAY</td>\n",
       "    </tr>\n",
       "    <tr>\n",
       "      <th>3</th>\n",
       "      <td>-122.25</td>\n",
       "      <td>37.85</td>\n",
       "      <td>52.0</td>\n",
       "      <td>1274.0</td>\n",
       "      <td>235.0</td>\n",
       "      <td>558.0</td>\n",
       "      <td>219.0</td>\n",
       "      <td>5.6431</td>\n",
       "      <td>341300.0</td>\n",
       "      <td>NEAR BAY</td>\n",
       "    </tr>\n",
       "    <tr>\n",
       "      <th>4</th>\n",
       "      <td>-122.25</td>\n",
       "      <td>37.85</td>\n",
       "      <td>52.0</td>\n",
       "      <td>1627.0</td>\n",
       "      <td>280.0</td>\n",
       "      <td>565.0</td>\n",
       "      <td>259.0</td>\n",
       "      <td>3.8462</td>\n",
       "      <td>342200.0</td>\n",
       "      <td>NEAR BAY</td>\n",
       "    </tr>\n",
       "  </tbody>\n",
       "</table>\n",
       "</div>"
      ],
      "text/plain": [
       "   longitude  latitude  housing_median_age  total_rooms  total_bedrooms  \\\n",
       "0    -122.23     37.88                41.0        880.0           129.0   \n",
       "1    -122.22     37.86                21.0       7099.0          1106.0   \n",
       "2    -122.24     37.85                52.0       1467.0           190.0   \n",
       "3    -122.25     37.85                52.0       1274.0           235.0   \n",
       "4    -122.25     37.85                52.0       1627.0           280.0   \n",
       "\n",
       "   population  households  median_income  median_house_value ocean_proximity  \n",
       "0       322.0       126.0         8.3252            452600.0        NEAR BAY  \n",
       "1      2401.0      1138.0         8.3014            358500.0        NEAR BAY  \n",
       "2       496.0       177.0         7.2574            352100.0        NEAR BAY  \n",
       "3       558.0       219.0         5.6431            341300.0        NEAR BAY  \n",
       "4       565.0       259.0         3.8462            342200.0        NEAR BAY  "
      ]
     },
     "execution_count": 37,
     "metadata": {},
     "output_type": "execute_result"
    },
    {
     "data": {
      "text/plain": [
       "(20640, 10)"
      ]
     },
     "metadata": {},
     "output_type": "display_data"
    }
   ],
   "source": [
    "df = pd.read_csv('housing.csv')\n",
    "df.head()\n",
    "display(df.shape)"
   ]
  },
  {
   "cell_type": "code",
   "execution_count": 38,
   "metadata": {},
   "outputs": [
    {
     "name": "stdout",
     "output_type": "stream",
     "text": [
      "<class 'pandas.core.frame.DataFrame'>\n",
      "RangeIndex: 20640 entries, 0 to 20639\n",
      "Data columns (total 10 columns):\n",
      " #   Column              Non-Null Count  Dtype  \n",
      "---  ------              --------------  -----  \n",
      " 0   longitude           20640 non-null  float64\n",
      " 1   latitude            20640 non-null  float64\n",
      " 2   housing_median_age  20640 non-null  float64\n",
      " 3   total_rooms         20640 non-null  float64\n",
      " 4   total_bedrooms      20433 non-null  float64\n",
      " 5   population          20640 non-null  float64\n",
      " 6   households          20640 non-null  float64\n",
      " 7   median_income       20640 non-null  float64\n",
      " 8   median_house_value  20640 non-null  float64\n",
      " 9   ocean_proximity     20640 non-null  object \n",
      "dtypes: float64(9), object(1)\n",
      "memory usage: 1.6+ MB\n"
     ]
    }
   ],
   "source": [
    "df.info()"
   ]
  },
  {
   "cell_type": "code",
   "execution_count": 39,
   "metadata": {},
   "outputs": [],
   "source": [
    "#retira todos os dados NA\n",
    "df.dropna(inplace=True)\n",
    "\n",
    "#para essa primeira regressão vamos deixar apenas as features númericas\n",
    "df.drop('ocean_proximity', axis=1, inplace=True)"
   ]
  },
  {
   "cell_type": "code",
   "execution_count": 42,
   "metadata": {},
   "outputs": [],
   "source": [
    "#posteriormente vamos deixar o target em pandas series, logo vamos tirar o index do df\n",
    "df.reset_index(inplace=True)\n",
    "df.drop(columns={'index'}, inplace=True)"
   ]
  },
  {
   "cell_type": "markdown",
   "metadata": {},
   "source": [
    "## Regressão com Statsmodels"
   ]
  },
  {
   "cell_type": "code",
   "execution_count": 44,
   "metadata": {},
   "outputs": [
    {
     "name": "stdout",
     "output_type": "stream",
     "text": [
      "                                 OLS Regression Results                                \n",
      "=======================================================================================\n",
      "Dep. Variable:     median_house_value   R-squared (uncentered):                   0.900\n",
      "Model:                            OLS   Adj. R-squared (uncentered):              0.900\n",
      "Method:                 Least Squares   F-statistic:                          2.300e+04\n",
      "Date:                Tue, 09 Aug 2022   Prob (F-statistic):                        0.00\n",
      "Time:                        09:56:23   Log-Likelihood:                     -2.5833e+05\n",
      "No. Observations:               20433   AIC:                                  5.167e+05\n",
      "Df Residuals:                   20425   BIC:                                  5.167e+05\n",
      "Df Model:                           8                                                  \n",
      "Covariance Type:            nonrobust                                                  \n",
      "======================================================================================\n",
      "                         coef    std err          t      P>|t|      [0.025      0.975]\n",
      "--------------------------------------------------------------------------------------\n",
      "longitude          -2262.9266    108.739    -20.811      0.000   -2476.064   -2049.789\n",
      "latitude           -8493.7869    344.069    -24.686      0.000   -9168.190   -7819.384\n",
      "housing_median_age  1782.1508     45.199     39.429      0.000    1693.557    1870.744\n",
      "total_rooms          -15.1143      0.845    -17.883      0.000     -16.771     -13.458\n",
      "total_bedrooms        79.9151      7.434     10.750      0.000      65.344      94.486\n",
      "population           -40.2138      1.167    -34.470      0.000     -42.501     -37.927\n",
      "households           132.0915      7.967     16.581      0.000     116.476     147.707\n",
      "median_income       4.555e+04    349.217    130.432      0.000    4.49e+04    4.62e+04\n",
      "==============================================================================\n",
      "Omnibus:                     4349.465   Durbin-Watson:                   0.970\n",
      "Prob(Omnibus):                  0.000   Jarque-Bera (JB):            14722.537\n",
      "Skew:                           1.064   Prob(JB):                         0.00\n",
      "Kurtosis:                       6.573   Cond. No.                     3.00e+03\n",
      "==============================================================================\n",
      "\n",
      "Notes:\n",
      "[1] R² is computed without centering (uncentered) since the model does not contain a constant.\n",
      "[2] Standard Errors assume that the covariance matrix of the errors is correctly specified.\n",
      "[3] The condition number is large,  3e+03. This might indicate that there are\n",
      "strong multicollinearity or other numerical problems.\n"
     ]
    }
   ],
   "source": [
    "y = df['median_house_value']\n",
    "X = df.drop('median_house_value', axis=1)\n",
    "\n",
    "model = sm.OLS(y, X)\n",
    "res = model.fit()\n",
    "print(res.summary())\n"
   ]
  },
  {
   "cell_type": "code",
   "execution_count": 50,
   "metadata": {},
   "outputs": [
    {
     "name": "stdout",
     "output_type": "stream",
     "text": [
      "                            OLS Regression Results                            \n",
      "==============================================================================\n",
      "Dep. Variable:     median_house_value   R-squared:                       0.637\n",
      "Model:                            OLS   Adj. R-squared:                  0.637\n",
      "Method:                 Least Squares   F-statistic:                     4478.\n",
      "Date:                Tue, 09 Aug 2022   Prob (F-statistic):               0.00\n",
      "Time:                        10:02:12   Log-Likelihood:            -2.5682e+05\n",
      "No. Observations:               20433   AIC:                         5.137e+05\n",
      "Df Residuals:                   20424   BIC:                         5.137e+05\n",
      "Df Model:                           8                                         \n",
      "Covariance Type:            nonrobust                                         \n",
      "======================================================================================\n",
      "                         coef    std err          t      P>|t|      [0.025      0.975]\n",
      "--------------------------------------------------------------------------------------\n",
      "longitude          -8.561e+04   1436.704    -59.588      0.000   -8.84e+04   -8.28e+04\n",
      "latitude           -9.081e+04   1446.168    -62.796      0.000   -9.36e+04    -8.8e+04\n",
      "housing_median_age  1.458e+04    546.327     26.687      0.000    1.35e+04    1.57e+04\n",
      "total_rooms        -1.803e+04   1735.631    -10.387      0.000   -2.14e+04   -1.46e+04\n",
      "total_bedrooms      4.796e+04   2920.377     16.423      0.000    4.22e+04    5.37e+04\n",
      "population          -4.35e+04   1228.505    -35.407      0.000   -4.59e+04   -4.11e+04\n",
      "households          1.824e+04   2884.972      6.321      0.000    1.26e+04    2.39e+04\n",
      "median_income       7.653e+04    640.439    119.504      0.000    7.53e+04    7.78e+04\n",
      "intercept           2.069e+05    486.704    425.031      0.000    2.06e+05    2.08e+05\n",
      "==============================================================================\n",
      "Omnibus:                     4898.534   Durbin-Watson:                   0.975\n",
      "Prob(Omnibus):                  0.000   Jarque-Bera (JB):            18260.733\n",
      "Skew:                           1.166   Prob(JB):                         0.00\n",
      "Kurtosis:                       7.002   Cond. No.                         16.2\n",
      "==============================================================================\n",
      "\n",
      "Notes:\n",
      "[1] Standard Errors assume that the covariance matrix of the errors is correctly specified.\n"
     ]
    }
   ],
   "source": [
    "scaler = StandardScaler()\n",
    "normalized_X = scaler.fit_transform(X)\n",
    "normalized_X = pd.DataFrame(normalized_X, columns=X.columns)\n",
    "normalized_X['intercept'] = 1\n",
    "\n",
    "model = sm.OLS(y, normalized_X)\n",
    "res = model.fit()\n",
    "print(res.summary())"
   ]
  },
  {
   "cell_type": "markdown",
   "metadata": {},
   "source": [
    "## Regressão com Scikit-learn"
   ]
  },
  {
   "cell_type": "code",
   "execution_count": 76,
   "metadata": {},
   "outputs": [
    {
     "data": {
      "text/plain": [
       "LinearRegression(fit_intercept=False)"
      ]
     },
     "execution_count": 76,
     "metadata": {},
     "output_type": "execute_result"
    },
    {
     "name": "stdout",
     "output_type": "stream",
     "text": [
      "Predições: [-2.27250252e+03 -8.50385577e+03  1.79022001e+03 -1.48661494e+01\n",
      "  7.70389006e+01 -3.95783751e+01  1.31123358e+02  4.54072583e+04]\n",
      "\n",
      " MSE: 74742.289948614\n"
     ]
    }
   ],
   "source": [
    "from sklearn.linear_model import LinearRegression\n",
    "from sklearn.metrics import mean_squared_error\n",
    "from sklearn.model_selection import train_test_split\n",
    "\n",
    "Xtrain, Xtest, ytrain, ytest = train_test_split(X, y, test_size=0.3, random_state=1)\n",
    "\n",
    "model = LinearRegression()\n",
    "model.fit(Xtrain, ytrain)\n",
    "\n",
    "pred = model.predict(Xtest)\n",
    "\n",
    "print(f'Predições: {model.coef_}')\n",
    "\n",
    "print(f'\\n MSE: {np.sqrt(mean_squared_error(ytest, pred))}')\n"
   ]
  },
  {
   "cell_type": "markdown",
   "metadata": {},
   "source": [
    "Agora vamos realizar a regressão normalizando os dados:"
   ]
  },
  {
   "cell_type": "code",
   "execution_count": 78,
   "metadata": {},
   "outputs": [
    {
     "data": {
      "text/plain": [
       "LinearRegression(fit_intercept=False)"
      ]
     },
     "execution_count": 78,
     "metadata": {},
     "output_type": "execute_result"
    },
    {
     "name": "stdout",
     "output_type": "stream",
     "text": [
      "Predições: [-85397.44078889 -90605.02604213  14613.21444982 -16963.88280731\n",
      "  46959.63767603 -42860.88059306  17598.48808835  75423.80895867]\n",
      " MSE: 217746.61332666338\n"
     ]
    }
   ],
   "source": [
    "#normalizando os dados\n",
    "scaler = StandardScaler()\n",
    "Xtrain_scaled = scaler.fit_transform(Xtrain)\n",
    "Xtest_scaled = scaler.transform(Xtest)\n",
    "\n",
    "model = LinearRegression(fit_intercept=False)\n",
    "model.fit(Xtrain_scaled, ytrain)\n",
    "\n",
    "pred = model.predict(Xtest_scaled)\n",
    "\n",
    "print(f'Predições: {model.coef_}')\n",
    "\n",
    "print(f' MSE: {np.sqrt(mean_squared_error(ytest, pred))}')"
   ]
  },
  {
   "cell_type": "markdown",
   "metadata": {},
   "source": [
    "Podemos ver que o erro médio melhorou e muito, tanto por ter normalizado os dados, assim como, pelo fato de ter retirado o 'intercept'"
   ]
  },
  {
   "cell_type": "markdown",
   "metadata": {},
   "source": [
    "### Conclusões\n",
    "\n",
    "1. Ao utilizar o Statsmodels, vemos que é possível ter uma análise bem mais detalhada sobre o modelo, mas não conseguimos fazer predições como no Scikit-Learn.\n",
    "2. Colocar um intercept no statsmodel melhorou o R quadrado quando os dados são normalizados\n",
    "3. Foi possível encontrar os coeficientes parecidos tanto no statsmodel como no scikit-learn;\n",
    "4. E normalizar os dados no scikit-learn diminuiu o erro medio quadrado do modelo.\n",
    "\n",
    "\n",
    "\n"
   ]
  }
 ],
 "metadata": {
  "kernelspec": {
   "display_name": "Python 3.8.5 ('base')",
   "language": "python",
   "name": "python3"
  },
  "language_info": {
   "codemirror_mode": {
    "name": "ipython",
    "version": 3
   },
   "file_extension": ".py",
   "mimetype": "text/x-python",
   "name": "python",
   "nbconvert_exporter": "python",
   "pygments_lexer": "ipython3",
   "version": "3.8.5"
  },
  "orig_nbformat": 4,
  "vscode": {
   "interpreter": {
    "hash": "dc31b6ed2dedac6f9d62dd1926e053993a81602fc51f7d26bdceccfd5de52b60"
   }
  }
 },
 "nbformat": 4,
 "nbformat_minor": 2
}
